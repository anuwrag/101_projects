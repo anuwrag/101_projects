{
 "cells": [
  {
   "cell_type": "code",
   "execution_count": 1,
   "id": "5508be72-735b-431e-84b4-7e7adf9c1119",
   "metadata": {},
   "outputs": [],
   "source": [
    "import torch"
   ]
  },
  {
   "cell_type": "code",
   "execution_count": 2,
   "id": "78355b9d-6b12-4b84-a262-724ffe63d2bd",
   "metadata": {},
   "outputs": [],
   "source": [
    "import numpy as np"
   ]
  },
  {
   "cell_type": "code",
   "execution_count": 15,
   "id": "95f76027-ed18-428a-aa1a-7566588802df",
   "metadata": {},
   "outputs": [
    {
     "name": "stdout",
     "output_type": "stream",
     "text": [
      "[0. 1. 2. 3. 4. 5.]\n"
     ]
    }
   ],
   "source": [
    "array = np.arange(6.); print(array)"
   ]
  },
  {
   "cell_type": "code",
   "execution_count": 16,
   "id": "8e5c8f91-f510-4e37-8d01-f1e5bb7b041e",
   "metadata": {},
   "outputs": [
    {
     "name": "stdout",
     "output_type": "stream",
     "text": [
      "tensor([0., 1., 2., 3., 4., 5.])\n"
     ]
    }
   ],
   "source": [
    "t1 = torch.Tensor(array); print(t1)"
   ]
  },
  {
   "cell_type": "code",
   "execution_count": 17,
   "id": "67c060de-0732-4aa8-9cd1-043d82905e93",
   "metadata": {},
   "outputs": [
    {
     "name": "stdout",
     "output_type": "stream",
     "text": [
      "tensor([0., 1., 2., 3., 4., 5.], dtype=torch.float64)\n"
     ]
    }
   ],
   "source": [
    "t2 = torch.tensor(array); print(t2)"
   ]
  },
  {
   "cell_type": "code",
   "execution_count": 18,
   "id": "5c771dbb-1c4b-4c69-8aaf-ed18f2e18ff0",
   "metadata": {},
   "outputs": [
    {
     "name": "stdout",
     "output_type": "stream",
     "text": [
      "tensor([0., 1., 2., 3., 4., 5.], dtype=torch.float64)\n"
     ]
    }
   ],
   "source": [
    "t3 = torch.as_tensor(array); print(t3)"
   ]
  },
  {
   "cell_type": "code",
   "execution_count": 19,
   "id": "6e2cb0aa-b3e4-4d89-9aeb-e53379e48f7b",
   "metadata": {},
   "outputs": [
    {
     "name": "stdout",
     "output_type": "stream",
     "text": [
      "tensor([0., 1., 2., 3., 4., 5.], dtype=torch.float64)\n"
     ]
    }
   ],
   "source": [
    "t4 = torch.from_numpy(array); print(t4)"
   ]
  },
  {
   "cell_type": "code",
   "execution_count": 22,
   "id": "98a17a91-1c8b-4476-aeba-ca4c1e4e6188",
   "metadata": {},
   "outputs": [
    {
     "data": {
      "text/plain": [
       "array([[0., 1., 2., 3., 4., 5.]])"
      ]
     },
     "execution_count": 22,
     "metadata": {},
     "output_type": "execute_result"
    }
   ],
   "source": [
    "array.reshape(1,-1)#.squeeze()"
   ]
  },
  {
   "cell_type": "code",
   "execution_count": 23,
   "id": "dd81debb-48f6-44e8-9934-8a03cddb5282",
   "metadata": {},
   "outputs": [
    {
     "data": {
      "text/plain": [
       "array([0., 1., 2., 3., 4., 5.])"
      ]
     },
     "execution_count": 23,
     "metadata": {},
     "output_type": "execute_result"
    }
   ],
   "source": [
    "array.reshape(1,-1).squeeze()"
   ]
  },
  {
   "cell_type": "code",
   "execution_count": 26,
   "id": "0abe7919-65c2-4f01-bd98-f2a1da9ae343",
   "metadata": {},
   "outputs": [
    {
     "data": {
      "text/plain": [
       "1"
      ]
     },
     "execution_count": 26,
     "metadata": {},
     "output_type": "execute_result"
    }
   ],
   "source": [
    "next(iter([1,23,3]))"
   ]
  },
  {
   "cell_type": "code",
   "execution_count": 29,
   "id": "18c7dfe4-70de-46d2-a1bb-ff0740dfd024",
   "metadata": {},
   "outputs": [
    {
     "data": {
      "text/plain": [
       "0.0"
      ]
     },
     "execution_count": 29,
     "metadata": {},
     "output_type": "execute_result"
    }
   ],
   "source": [
    "next(iter(array))"
   ]
  },
  {
   "cell_type": "code",
   "execution_count": 30,
   "id": "30a48fec-0b20-4e9a-bfb8-907410bca409",
   "metadata": {},
   "outputs": [
    {
     "data": {
      "text/plain": [
       "0.0"
      ]
     },
     "execution_count": 30,
     "metadata": {},
     "output_type": "execute_result"
    }
   ],
   "source": [
    "next(iter(array))"
   ]
  },
  {
   "cell_type": "code",
   "execution_count": null,
   "id": "161da213-8e7a-46e6-8e1a-cefb7e9704bc",
   "metadata": {},
   "outputs": [],
   "source": []
  }
 ],
 "metadata": {
  "kernelspec": {
   "display_name": "Python 3 (ipykernel)",
   "language": "python",
   "name": "python3"
  },
  "language_info": {
   "codemirror_mode": {
    "name": "ipython",
    "version": 3
   },
   "file_extension": ".py",
   "mimetype": "text/x-python",
   "name": "python",
   "nbconvert_exporter": "python",
   "pygments_lexer": "ipython3",
   "version": "3.11.10"
  }
 },
 "nbformat": 4,
 "nbformat_minor": 5
}
