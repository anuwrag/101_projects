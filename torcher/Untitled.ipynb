{
 "cells": [
  {
   "cell_type": "code",
   "execution_count": 1,
   "id": "5508be72-735b-431e-84b4-7e7adf9c1119",
   "metadata": {},
   "outputs": [],
   "source": [
    "import torch"
   ]
  },
  {
   "cell_type": "code",
   "execution_count": 2,
   "id": "78355b9d-6b12-4b84-a262-724ffe63d2bd",
   "metadata": {},
   "outputs": [],
   "source": [
    "import numpy as np"
   ]
  },
  {
   "cell_type": "code",
   "execution_count": 15,
   "id": "95f76027-ed18-428a-aa1a-7566588802df",
   "metadata": {},
   "outputs": [
    {
     "name": "stdout",
     "output_type": "stream",
     "text": [
      "[0. 1. 2. 3. 4. 5.]\n"
     ]
    }
   ],
   "source": [
    "array = np.arange(6.); print(array)"
   ]
  },
  {
   "cell_type": "code",
   "execution_count": 16,
   "id": "8e5c8f91-f510-4e37-8d01-f1e5bb7b041e",
   "metadata": {},
   "outputs": [
    {
     "name": "stdout",
     "output_type": "stream",
     "text": [
      "tensor([0., 1., 2., 3., 4., 5.])\n"
     ]
    }
   ],
   "source": [
    "t1 = torch.Tensor(array); print(t1)"
   ]
  },
  {
   "cell_type": "code",
   "execution_count": 17,
   "id": "67c060de-0732-4aa8-9cd1-043d82905e93",
   "metadata": {},
   "outputs": [
    {
     "name": "stdout",
     "output_type": "stream",
     "text": [
      "tensor([0., 1., 2., 3., 4., 5.], dtype=torch.float64)\n"
     ]
    }
   ],
   "source": [
    "t2 = torch.tensor(array); print(t2)"
   ]
  },
  {
   "cell_type": "code",
   "execution_count": 18,
   "id": "5c771dbb-1c4b-4c69-8aaf-ed18f2e18ff0",
   "metadata": {},
   "outputs": [
    {
     "name": "stdout",
     "output_type": "stream",
     "text": [
      "tensor([0., 1., 2., 3., 4., 5.], dtype=torch.float64)\n"
     ]
    }
   ],
   "source": [
    "t3 = torch.as_tensor(array); print(t3)"
   ]
  },
  {
   "cell_type": "code",
   "execution_count": 19,
   "id": "6e2cb0aa-b3e4-4d89-9aeb-e53379e48f7b",
   "metadata": {},
   "outputs": [
    {
     "name": "stdout",
     "output_type": "stream",
     "text": [
      "tensor([0., 1., 2., 3., 4., 5.], dtype=torch.float64)\n"
     ]
    }
   ],
   "source": [
    "t4 = torch.from_numpy(array); print(t4)"
   ]
  },
  {
   "cell_type": "code",
   "execution_count": 22,
   "id": "98a17a91-1c8b-4476-aeba-ca4c1e4e6188",
   "metadata": {},
   "outputs": [
    {
     "data": {
      "text/plain": [
       "array([[0., 1., 2., 3., 4., 5.]])"
      ]
     },
     "execution_count": 22,
     "metadata": {},
     "output_type": "execute_result"
    }
   ],
   "source": [
    "array.reshape(1,-1)#.squeeze()"
   ]
  },
  {
   "cell_type": "code",
   "execution_count": 23,
   "id": "dd81debb-48f6-44e8-9934-8a03cddb5282",
   "metadata": {},
   "outputs": [
    {
     "data": {
      "text/plain": [
       "array([0., 1., 2., 3., 4., 5.])"
      ]
     },
     "execution_count": 23,
     "metadata": {},
     "output_type": "execute_result"
    }
   ],
   "source": [
    "array.reshape(1,-1).squeeze()"
   ]
  },
  {
   "cell_type": "code",
   "execution_count": 26,
   "id": "0abe7919-65c2-4f01-bd98-f2a1da9ae343",
   "metadata": {},
   "outputs": [
    {
     "data": {
      "text/plain": [
       "1"
      ]
     },
     "execution_count": 26,
     "metadata": {},
     "output_type": "execute_result"
    }
   ],
   "source": [
    "next(iter([1,23,3]))"
   ]
  },
  {
   "cell_type": "code",
   "execution_count": 29,
   "id": "18c7dfe4-70de-46d2-a1bb-ff0740dfd024",
   "metadata": {},
   "outputs": [
    {
     "data": {
      "text/plain": [
       "0.0"
      ]
     },
     "execution_count": 29,
     "metadata": {},
     "output_type": "execute_result"
    }
   ],
   "source": [
    "next(iter(array))"
   ]
  },
  {
   "cell_type": "code",
   "execution_count": 30,
   "id": "30a48fec-0b20-4e9a-bfb8-907410bca409",
   "metadata": {},
   "outputs": [
    {
     "data": {
      "text/plain": [
       "0.0"
      ]
     },
     "execution_count": 30,
     "metadata": {},
     "output_type": "execute_result"
    }
   ],
   "source": [
    "next(iter(array))"
   ]
  },
  {
   "cell_type": "code",
   "execution_count": 4,
   "id": "161da213-8e7a-46e6-8e1a-cefb7e9704bc",
   "metadata": {},
   "outputs": [],
   "source": [
    "x =torch.randn(5, 5) #requires_grad = False by defaults\n",
    "y =torch.randn(5, 5) #requires_grad = False by defaults\n",
    "z =torch.randn((5, 5), requires_grad=True)\n",
    "a = x + y\n",
    "b = a + z"
   ]
  },
  {
   "cell_type": "code",
   "execution_count": 5,
   "id": "2ea37f51",
   "metadata": {},
   "outputs": [
    {
     "name": "stdout",
     "output_type": "stream",
     "text": [
      "tensor([[ 0.8252, -1.8375,  1.2509, -0.6841,  1.4015],\n",
      "        [ 1.6767,  3.2892, -1.6789,  0.1469, -0.1271],\n",
      "        [-1.3656, -3.4695, -1.9617,  1.9795, -1.2266],\n",
      "        [ 0.5148, -1.3932,  2.6723, -0.6981, -0.7784],\n",
      "        [ 0.4303,  0.1197,  0.4003,  1.2986, -0.7982]]) tensor([[-0.6632, -1.5923,  0.3492, -0.7401,  1.3526],\n",
      "        [ 2.9655,  3.9204, -2.7321,  1.1715,  0.9575],\n",
      "        [-1.4007, -2.7489, -2.0351,  1.6405, -0.4578],\n",
      "        [ 0.8896, -0.6937,  0.9534, -0.9360, -1.2110],\n",
      "        [ 0.9579, -0.9982,  0.0474,  1.9790, -2.8920]], grad_fn=<AddBackward0>)\n"
     ]
    }
   ],
   "source": [
    "print(a,b)"
   ]
  },
  {
   "cell_type": "code",
   "execution_count": 3,
   "id": "c2ca5184",
   "metadata": {},
   "outputs": [],
   "source": [
    "import torch"
   ]
  },
  {
   "cell_type": "code",
   "execution_count": 8,
   "id": "c4a67387",
   "metadata": {},
   "outputs": [],
   "source": [
    "t = torch.tensor([1,2,3])\n"
   ]
  },
  {
   "cell_type": "code",
   "execution_count": 10,
   "id": "e8e4051e",
   "metadata": {},
   "outputs": [
    {
     "data": {
      "text/plain": [
       "tensor(3)"
      ]
     },
     "execution_count": 10,
     "metadata": {},
     "output_type": "execute_result"
    }
   ],
   "source": [
    "t.max()"
   ]
  },
  {
   "cell_type": "code",
   "execution_count": 11,
   "id": "2944591d",
   "metadata": {},
   "outputs": [],
   "source": [
    "t = torch.tensor([\n",
    "    [1, 0, 0, 2],\n",
    "    [0, 3, 3, 0],\n",
    "    [4, 0, 0, 5]\n",
    "], dtype=torch.float32)"
   ]
  },
  {
   "cell_type": "code",
   "execution_count": 13,
   "id": "b5a5a01f",
   "metadata": {},
   "outputs": [
    {
     "data": {
      "text/plain": [
       "torch.return_types.max(\n",
       "values=tensor([4., 3., 3., 5.]),\n",
       "indices=tensor([2, 1, 1, 2]))"
      ]
     },
     "execution_count": 13,
     "metadata": {},
     "output_type": "execute_result"
    }
   ],
   "source": [
    "t.max(dim=0) "
   ]
  },
  {
   "cell_type": "code",
   "execution_count": null,
   "id": "e746364e",
   "metadata": {},
   "outputs": [],
   "source": []
  }
 ],
 "metadata": {
  "kernelspec": {
   "display_name": "Python 3 (ipykernel)",
   "language": "python",
   "name": "python3"
  },
  "language_info": {
   "codemirror_mode": {
    "name": "ipython",
    "version": 3
   },
   "file_extension": ".py",
   "mimetype": "text/x-python",
   "name": "python",
   "nbconvert_exporter": "python",
   "pygments_lexer": "ipython3",
   "version": "3.11.10"
  }
 },
 "nbformat": 4,
 "nbformat_minor": 5
}
